{
 "cells": [
  {
   "cell_type": "markdown",
   "metadata": {},
   "source": [
    "# 多クラスのロジスティック回帰で手書き文字を認識"
   ]
  },
  {
   "cell_type": "markdown",
   "metadata": {},
   "source": [
    "# 0. 序： なぜ、ロジスティック回帰？\n",
    "\n",
    "線形回帰の理解からディープラーニングの理解に至る、中間段階として。\n",
    "\n",
    "* 線形回帰 (直線フィット）\n",
    "  * 最尤法による誤差関数 (と最小二乗法による誤差関数は実は同じ。）\n",
    "  * 確率モデル\n",
    "\n",
    "\n",
    "* ロジステック回帰 <-- 今、ここ\n",
    "  * 最尤法によるパラメーター推定という点で、線形回帰と同じ\n",
    "  * 確率モデルという考え方を使うと、回帰モデルは分類にも使える。\n",
    "  * 複数のクラスを分類するための拡張\n",
    "\n",
    "\n",
    "* ディープラーニングの基本 <-- 次のノート\n",
    "  * 最尤法によるパラメーター推定という点で、線形回帰と同じ\n",
    "  * 回帰モデルの入力と出力と間に、隠れ層を追加。層を深くする。（だから\"深層\"学習）"
   ]
  },
  {
   "cell_type": "markdown",
   "metadata": {},
   "source": [
    "## 0.1 TensorFlow を動かす準備"
   ]
  },
  {
   "cell_type": "code",
   "execution_count": 1,
   "metadata": {
    "collapsed": true
   },
   "outputs": [],
   "source": [
    "import tensorflow as tf\n",
    "\n",
    "from math import *\n",
    "import numpy as np\n",
    "import matplotlib.pyplot as plt\n",
    "%matplotlib inline\n",
    "\n",
    "from tensorflow.examples.tutorials.mnist import input_data"
   ]
  },
  {
   "cell_type": "markdown",
   "metadata": {},
   "source": [
    "## 0.2 ターゲットとなるデータセット\n",
    "\n",
    "ディープラーニング入門の定番であるMNISTデータセットを使う。\n",
    "まず、ダウンロードして、mnistオブジェクトに格納しておく。"
   ]
  },
  {
   "cell_type": "code",
   "execution_count": 2,
   "metadata": {
    "scrolled": false
   },
   "outputs": [
    {
     "name": "stdout",
     "output_type": "stream",
     "text": [
      "Extracting /tmp/data/train-images-idx3-ubyte.gz\n",
      "Extracting /tmp/data/train-labels-idx1-ubyte.gz\n",
      "Extracting /tmp/data/t10k-images-idx3-ubyte.gz\n",
      "Extracting /tmp/data/t10k-labels-idx1-ubyte.gz\n"
     ]
    }
   ],
   "source": [
    "mnist = input_data.read_data_sets(\"/tmp/data/\", one_hot=True)"
   ]
  },
  {
   "cell_type": "markdown",
   "metadata": {},
   "source": [
    "### 0.2.1 データセットの構成\n",
    "\n",
    "#### データセットは分割して使う\n",
    "一般に、機械学習のためのデータを、３つのデータセット、学習用、検証用、テスト用に分割して使う。TensorFlowのチュートリアルではすでに分割されている。"
   ]
  },
  {
   "cell_type": "code",
   "execution_count": 3,
   "metadata": {},
   "outputs": [
    {
     "name": "stdout",
     "output_type": "stream",
     "text": [
      "traing data: \t\t55000 images 55000 labels\n",
      "validation data:\t5000 images 5000 labels\n",
      "test data: \t\t10000 images 10000 labels\n"
     ]
    }
   ],
   "source": [
    "print \"traing data: \\t\\t\", len( mnist.train.images),\"images\", len(mnist.train.labels), \"labels\"\n",
    "print \"validation data:\\t\", len( mnist.validation.images),\"images\", len(mnist.validation.labels), \"labels\"\n",
    "print \"test data: \\t\\t\", len( mnist.test.images),\"images\", len(mnist.test.labels), \"labels\""
   ]
  },
  {
   "cell_type": "markdown",
   "metadata": {},
   "source": [
    "学習はモデルパラメーターを最適化するために、検証は複数のモデルから最良のモデルを選ぶために、テストは未知データに対するモデルの予測精度を見積もるために、行われる。\n",
    "ここでは、モデルは１種類だけを作るので、学習とテストだけを行う。\n",
    " \n",
    "#### データの中身\n",
    "それぞれのデータセットには画像とラベルが同数だけ含まれる。"
   ]
  },
  {
   "cell_type": "markdown",
   "metadata": {},
   "source": [
    "トレーニングセットから、10個分のデータを取り出して、画像データとラベルを別々の変数に格納する。"
   ]
  },
  {
   "cell_type": "code",
   "execution_count": 4,
   "metadata": {
    "collapsed": true
   },
   "outputs": [],
   "source": [
    "images, labels = mnist.train.next_batch(10)"
   ]
  },
  {
   "cell_type": "markdown",
   "metadata": {},
   "source": [
    "ラベルは、次のように、画像がどの数字に対応するかを示している。"
   ]
  },
  {
   "cell_type": "code",
   "execution_count": 5,
   "metadata": {},
   "outputs": [
    {
     "name": "stdout",
     "output_type": "stream",
     "text": [
      "[1, 9, 7, 8, 9, 8, 3, 4, 9, 0]\n"
     ]
    }
   ],
   "source": [
    "print [ np.argmax(l) for l in labels[ range(10)] ]"
   ]
  },
  {
   "cell_type": "markdown",
   "metadata": {},
   "source": [
    " 画像をラベルと一緒に表示してみる。正しくラベルづけされている。"
   ]
  },
  {
   "cell_type": "code",
   "execution_count": 6,
   "metadata": {
    "scrolled": true
   },
   "outputs": [
    {
     "data": {
      "image/png": "[encoded data removed]",
      "text/plain": [
       "<matplotlib.figure.Figure at 0x7f7f2d3f1950>"
      ]
     },
     "metadata": {},
     "output_type": "display_data"
    }
   ],
   "source": [
    "fig = plt.figure(figsize=(7,4))\n",
    "for c, (image, label) in enumerate(zip(images, labels)):\n",
    "    subplot = fig.add_subplot(2,5,c+1)\n",
    "    subplot.set_xticks([])\n",
    "    subplot.set_yticks([])\n",
    "    subplot.set_title('%d' % np.argmax(label))\n",
    "    subplot.imshow(image.reshape((28,28)), vmin=0, vmax=1,\n",
    "                   cmap=plt.cm.gray_r, interpolation=\"nearest\")"
   ]
  },
  {
   "cell_type": "markdown",
   "metadata": {
    "scrolled": true
   },
   "source": [
    "#### データフォーマットに注意\n",
    "MNISTデータセットのなかで、画層データは784個の要素からなる一次元配列となっているので、\n",
    "上のコードでは表示する前に、28x28の二次元配列に変換している。"
   ]
  },
  {
   "cell_type": "markdown",
   "metadata": {},
   "source": [
    "# 1. 方法論： ロジステック回帰\n",
    "\n",
    "## 1. 1 基本は線形回帰と同じ\n",
    "\n",
    "線形回帰ではモデル式は次のように与えられる。\n",
    "$$ f({\\bf x}) = b + {\\bf x \\cdot w}$$  \n",
    "\n",
    "* 独立変数 : $ {\\bf x} = ( x_1 \\, \\ldots \\, x_n)$\n",
    "* モデルパラメーター\n",
    "  * バイアス : $b$\n",
    "  * 重み : ${\\bf w}^T = ( w_1 \\, \\ldots \\, w_n)$\n",
    "\n",
    "このモデル式をシグモイド関数\n",
    "$$ \\sigma(x) = \\frac{1}{ 1 + e^{- x} }  $$ \n",
    "を用いて、\n",
    "$$ P( {\\bf x} ) = \\sigma( f({\\bf x}) ) $$\n",
    "のように拡張する。\n",
    "\n",
    "この関数$P$は、独立変数$\\bf x$に対応する事象についての確率であると、考える。\n",
    "\n",
    "\n",
    "### 1.1.1 ここでも最尤法でモデルパラメーターを推定する\n",
    "\n",
    "現実のデータで、独立変数$\\bf x$に対応する事象が起こるかどうかを変数$t$で表すものとする。\n",
    "* 事象が起きなければ、$ t = 0 $。\n",
    "* 事象が起きれば、$ t = 1 $。\n",
    "\n",
    "すると、上記の確率モデルが現実を正しく言い当てる確率は、\n",
    "$$ q = \\{ P( {\\bf x} ) \\}^t \\{ 1 - P( {\\bf x} ) \\}^{1-t} $$\n",
    "という式で計算することができる。\n",
    "\n",
    "つまりは、この$q$で、現実のデータのなかに${\\bf x}, t$というレコードが含まれるときに、その尤度（もっともらしさ）を知ることができる。\n",
    "\n",
    "データが${\\bf x_i}, t_i \\ (i = 1, \\ldots, N)$という$N$個のレコードから構成されるときは、その尤度は\n",
    "$$ Q = \\prod_{i=1}^N  \\{ P( {\\bf x_i} ) \\}^{t_i} \\{ 1 - P( {\\bf x_i}) \\}^{1-t_i} $$\n",
    "である。\n",
    "\n",
    "よって、この対数尤度の符号を反転させた量を、パラメーターを決めるために最小化する誤差関数として用いる。\n",
    "$$ E = - \\log Q = \\sum_{i=1}^N [ t_i P( {\\bf x_i}) + (1-t_i) \\{ 1 - P( {\\bf x_i}) \\} ] $$"
   ]
  },
  {
   "cell_type": "markdown",
   "metadata": {},
   "source": [
    "### 1.1.2 ロジステック回帰は分類に使える\n",
    "\n",
    "誤差関数を最小化して決めたパラメーター$b, \\bf w$と確率モデル$P({\\bf x})$と使うと、事象$\\bf x$があるクラスに属するかどうかを分類することができる。\n",
    "\n",
    "* $P({\\bf x}) < 1/2 $なら、事象$\\bf x$はそのクラスに属さない。\n",
    "* $P({\\bf x}) \\geq 1/2 $なら、事象$\\bf x$はそのクラスに属する。\n",
    "\n",
    "この分類は、$f({\\bf x}) < 0$ならクラスに属さない、$f({\\bf x}) \\geq 0$なら属する、と識別していることと同じである。\n",
    "このように$ f({\\bf x})$は$\\bf x$を識別するための関数ともみなせるので、機械学習の分野では、「線形識別関数」と呼ばれている。\n"
   ]
  },
  {
   "cell_type": "markdown",
   "metadata": {},
   "source": [
    "## 1.2 多クラス分類のための拡張\n",
    "\n",
    "まず、線形識別関数をクラスの数$K$と同じだけ用意する。\n",
    "$$ f_k({\\bf x}) = b_k + {\\bf x \\cdot w_k} \\ ( k = 1, \\ldots, K )$$  \n",
    "\n",
    "モデルパラメーター$ b_k, {\\bf w_k}$ は$K$組、必要になる。\n",
    "\n",
    "そして、シグモイド関数をソフトマックス関数\n",
    "$$ s_k(f_1, \\ldots, f_K) = \\frac{ e^{f_k} }{\\sum_k e^{f_k}}  $$\n",
    "で置き換える。\n",
    "\n",
    "すると、$\\bf x$がクラス$k$に属する確率を表す、確率モデル関数が得られる。\n",
    "$$ P_k({\\bf x}) = \\frac{ \\exp(f_k({\\bf x}) }{\\sum_k \\exp(f_k({\\bf x}))} $$\n",
    "\n",
    "このモデルでは、$P_1({\\bf x}), \\ldots, P_K({\\bf x})$のうちで$P_n$が最大となる時、$\\bf x$をクラス$k$に分類する。\n",
    "\n",
    "\n",
    "また、ソフトマックス関数の性質から、$P_1 + \\ldots + P_K = 1$であるので、$P_k({\\bf x})$が$\\bf x$がクラス$k$に分類される確率であると解釈することもできる。"
   ]
  },
  {
   "cell_type": "markdown",
   "metadata": {},
   "source": [
    "### 1.2.1 データとモデルを対応させるために\n",
    "\n",
    "#### 行列、ベクトルによる表現\n",
    "線形回帰のときと同様、データセットのなかの複数のレコードをまとめて表現するために、従属変数の線形識別関数をベクトル$\\bf f$、独立変数を行列$X$であらわすとプログラミングしやすくなる。\n",
    "\n",
    "$${\\bf f} = b + X {\\bf w}$$\n",
    "\n",
    "* 独立変数  \n",
    "  * $X$ 行列 : i番目の行$(x_{i1} \\, x_{iM})$が、i番目のレコードのなかの独立変数に対応する。$M$は独立変数の数。\n",
    "\n",
    "    * 手書き文字のデータセットMNISTは $28 \\times 28 = 784$ピクセルのイメージから構成されているので、行列 X は行数は任意、列数は784であるとして、TensorFlowでは次のように定義する。"
   ]
  },
  {
   "cell_type": "code",
   "execution_count": 7,
   "metadata": {
    "collapsed": true
   },
   "outputs": [],
   "source": [
    "InputDim = 784\n",
    "x = tf.placeholder(tf.float32, [None, InputDim])"
   ]
  },
  {
   "cell_type": "markdown",
   "metadata": {},
   "source": [
    "#### 複数クラスを扱うために、スカラーをベクトル、ベクトルを行列に\n",
    "\n",
    "$$ F = B + X W $$\n",
    "\n",
    "* モデルパラメーター\n",
    "   * $B$行列 : すべての行が同じ。k番目の列は、クラス$k$のためのパラメーター$b_k (k = 1,  \\ldots , K)$。 \n",
    "   * $W$行列 : $(j,k)$要素は、j番目の独立変数$x_j$を重み付けする、$k$番目のクラスのためのものである。$ M x K $行列。\n",
    "   \n",
    "ただし、TensorFlowでは、行列$B$を行ベクトル$b$として定義する。なぜなら、$ {\\bf b} + XW $のように行ベクトルを行列に加算するとき、すべての行が同じ内容の行列の加算$ B +XW $ に自動的に置き換えられるように、Googleは設計しているから。（数学的記法の慣習に照らして、変な設計だと思う。しかし、フレームワークを設計するときに、厳格な数学者よりも怠惰なソフトウェア開発者にやさしくあろうとするのは良いことだと思う。それにこの設計はパフォーマンスでも有利である。）"
   ]
  },
  {
   "cell_type": "code",
   "execution_count": 8,
   "metadata": {
    "collapsed": true
   },
   "outputs": [],
   "source": [
    "ClassNum = 10\n",
    "b = tf.Variable(tf.zeros([ ClassNum]))\n",
    "w = tf.Variable(tf.zeros([ InputDim, ClassNum]))"
   ]
  },
  {
   "cell_type": "markdown",
   "metadata": {},
   "source": [
    "* 従属変数\n",
    "  * $F$行列 : (i,k)要素に、データセット中のi番目のレコードをk番目のクラスに識別するための値が入る。\n",
    "  * $P$行列　: i番目の行に、$F$行列のi番目の行をソフトマックス関数で変換した値が入る。\n",
    "\n",
    "数学的には厳密な書き方ではないが、TensorFlow は、ソフトマックス関数の組$s = \\{s_1, \\ldots , s_K\\}$ で $F$から$P$への変換を、\n",
    "$$ P = s(F) $$\n",
    "と書けるようにする、関数 tensorflow.nn.softmax を提供している。 "
   ]
  },
  {
   "cell_type": "code",
   "execution_count": 9,
   "metadata": {
    "collapsed": true
   },
   "outputs": [],
   "source": [
    "f = tf.matmul(x, w) + b\n",
    "p = tf.nn.softmax(f)"
   ]
  },
  {
   "cell_type": "markdown",
   "metadata": {},
   "source": [
    "### 1.2.2 多クラス分類のためのモデルパラメーター決定法\n",
    "\n",
    "#### 複数クラスを扱うために、分類のための変数t を行列に\n",
    "\n",
    "データセットのなかのi番目のレコードにおいて、事象$\\bf x_i$がクラス$k$に属することを、行列$T$のi番目の行を使って、\n",
    "$$ T_{ik} = 1, \\  T_{il} = 0 \\, ( l \\ne k) $$\n",
    "のように表現する。つまり、行ベクトルのなかで、k番目の要素だけが１で、他の要素はゼロになっている。\n",
    "\n",
    "#### 最尤法\n",
    "すると、尤度は、\n",
    "$$ Q = \\prod_{i=1}^N \\prod_{k=1}^K  \\{ P_k( {\\bf x_{i}} ) \\}^{T_{ik}} \\{ 1 - P_k( {\\bf x_i}) \\}^{1-T_{ik}} $$\n",
    "と書き換えられるので、誤差関数は\n",
    "$$ E = - \\log Q = \\sum_{i=1}^N \\sum_{k=1}^K  [ T_{ik} P_k( {\\bf x_i}) + (1-T_{ik}) \\{ 1 - P_k( {\\bf x_i}) \\} ] $$\n",
    "となる。\n",
    "\n",
    "ここでも、Googleは誤差関数を定義するコードを簡単にするために、厳密な数学的記法とは異なる形でTensorFlowを設計している。\n",
    "* 通常の行列積$ A B $は \"tensorflow.matmul(A, B)\" 。\n",
    "* 行列A、Bの各成分をそれぞれかけ合わせる場合は \"A * B\" .\n",
    "* 行列A のすべての成分を足し合わせるときは、 \"tensorflow.reduce_sum( A)\" 。"
   ]
  },
  {
   "cell_type": "code",
   "execution_count": 10,
   "metadata": {},
   "outputs": [],
   "source": [
    "t = tf.placeholder( tf.float32, [ None, ClassNum])\n",
    "errFunc = - tf.reduce_sum( t * tf.log(p))"
   ]
  },
  {
   "cell_type": "markdown",
   "metadata": {},
   "source": [
    "#### 誤差関数の最小化は、ミニバッチによる勾配降下法で"
   ]
  },
  {
   "cell_type": "code",
   "execution_count": 11,
   "metadata": {
    "collapsed": true
   },
   "outputs": [],
   "source": [
    "trainStep = tf.train.AdamOptimizer().minimize( errFunc)"
   ]
  },
  {
   "cell_type": "markdown",
   "metadata": {},
   "source": [
    "# 1.3 モデルの正解率\n",
    "\n",
    "誤差関数は確率モデルがデータを正しく言い当てる確率から計算される量である。\n",
    "確率モデルの良さを図る指標として、この他に、正解率という量もある。\n",
    "\n",
    "正解率は、確率モデルによる分類が実際の分類と一致した比率である。"
   ]
  },
  {
   "cell_type": "code",
   "execution_count": 12,
   "metadata": {
    "collapsed": true
   },
   "outputs": [],
   "source": [
    "correct_prediction = tf.equal(tf.argmax(p, 1), tf.argmax(t, 1))\n",
    "accuracy = tf.reduce_mean(tf.cast(correct_prediction, tf.float32))"
   ]
  },
  {
   "cell_type": "markdown",
   "metadata": {},
   "source": [
    "# 2.  結果： 機械による学習"
   ]
  },
  {
   "cell_type": "code",
   "execution_count": 13,
   "metadata": {},
   "outputs": [],
   "source": [
    "np.random.seed(20170514)\n",
    "\n",
    "sess = tf.InteractiveSession()\n",
    "sess.run(tf.global_variables_initializer())"
   ]
  },
  {
   "cell_type": "markdown",
   "metadata": {
    "collapsed": true
   },
   "source": [
    "## 2.1 ミニバッチによる勾配降下法で最適化"
   ]
  },
  {
   "cell_type": "code",
   "execution_count": 14,
   "metadata": {},
   "outputs": [
    {
     "name": "stdout",
     "output_type": "stream",
     "text": [
      "Step: 3000, Err.Func.: 2725.875000, Accuracy: 0.923700\n",
      "Step: 6000, Err.Func.: 2628.608398, Accuracy: 0.926500\n",
      "Step: 9000, Err.Func.: 2641.793701, Accuracy: 0.926700\n",
      "Step: 12000, Err.Func.: 2621.302246, Accuracy: 0.928200\n",
      "Step: 15000, Err.Func.: 2642.274902, Accuracy: 0.927600\n",
      "Step: 18000, Err.Func.: 2694.154053, Accuracy: 0.926900\n",
      "Step: 21000, Err.Func.: 2669.924805, Accuracy: 0.928100\n",
      "Step: 24000, Err.Func.: 2715.356445, Accuracy: 0.928000\n",
      "Step: 27000, Err.Func.: 2690.238770, Accuracy: 0.928700\n",
      "Step: 30000, Err.Func.: 2747.899414, Accuracy: 0.926700\n"
     ]
    }
   ],
   "source": [
    "IterNum = 30000\n",
    "BatchSz = 100\n",
    "MonitorInterval = IterNum / 10\n",
    "\n",
    "for i in range(1,IterNum+1):\n",
    "    batchXs, batchTs = mnist.train.next_batch( BatchSz)\n",
    "    sess.run(trainStep, feed_dict={x: batchXs, t: batchTs})\n",
    "    if i % MonitorInterval == 0:\n",
    "        errVal, accVal = sess.run([errFunc, accuracy],\n",
    "            feed_dict={x:mnist.test.images, t: mnist.test.labels})\n",
    "        print ('Step: %d, Err.Func.: %f, Accuracy: %f'\n",
    "               % (i, errVal, accVal))"
   ]
  },
  {
   "cell_type": "markdown",
   "metadata": {},
   "source": [
    "学習データにおける正解率が93% で頭打ちになったので、モデルパラメータ最適化はここまでとする。"
   ]
  },
  {
   "cell_type": "markdown",
   "metadata": {},
   "source": [
    "## 2.2 モデルのテスト\n",
    "\n",
    "学習データで最適化されたモデルで、テストデータを分類してみる。\n",
    "\n",
    "分類が妥当かどうかを見るべく、「０」〜「９」の数字に対して、正解と不正解の例を３個ずつ表示してみる。"
   ]
  },
  {
   "cell_type": "code",
   "execution_count": 20,
   "metadata": {},
   "outputs": [
    {
     "data": {
      "image/png": "[encoded data removed]",
      "text/plain": [
       "<matplotlib.figure.Figure at 0x7f7f2a97bed0>"
      ]
     },
     "metadata": {},
     "output_type": "display_data"
    }
   ],
   "source": [
    "images, labels = mnist.test.images, mnist.test.labels\n",
    "p_val = sess.run(p, feed_dict={x:images, t: labels}) \n",
    "\n",
    "fig = plt.figure(figsize=(8,15))\n",
    "for i in range(10):\n",
    "    c = 1\n",
    "    for (image, label, pred) in zip(images, labels, p_val):\n",
    "        prediction, actual = np.argmax(pred), np.argmax(label)\n",
    "        if prediction != i:\n",
    "            continue\n",
    "        if (c < 4 and i == actual) or (c >= 4 and i != actual):\n",
    "            if c != 4 :\n",
    "                subplot = fig.add_subplot(10,7,i*7+c)\n",
    "                subplot.set_xticks([])\n",
    "                subplot.set_yticks([])\n",
    "                subplot.set_title('%d / %d' % (prediction, actual))\n",
    "                subplot.imshow(image.reshape((28,28)), vmin=0, vmax=1,\n",
    "                           cmap=plt.cm.gray_r, interpolation=\"nearest\")\n",
    "            c += 1\n",
    "            if c > 7:\n",
    "                break"
   ]
  },
  {
   "cell_type": "markdown",
   "metadata": {},
   "source": [
    "### 2.2.1 ロジステック回帰（ディープラーニング以外の機械学習）の弱点\n",
    "\n",
    "ロジステック回帰によるモデルが正解できなった画像のなかには、人間であれば簡単に正解できるものが多く含まれている。\n",
    "\n",
    "これはロジステック回帰による分類の限界を示していると思われる。そもそも、ロジステック回帰では、画像を784次元のベクトル空間における点$\\bf x$に対応するとみなして、ベクトル空間を線形識別関数$f_k({\\bf x})$で10個に区切り、点$\\bf x$がこの10個の領域のどこに入っているかで画像を分類している。\n",
    "\n",
    "* 1) 今回、機械ができなかった分類を人間が行うことができるのは、文字の画像が回転したり並進移動しても、人間はその画像を同じ文字だとみなすことができるからである。しかし、回転したり並進した画像を同じ文字であると機械に分類させるには、ベクトル空間を線形識別関数$f_k({\\bf x})$で切り出されるような単純な形状ではなく、かなり複雑な形状に区切る必要があると思われる。\n",
    "  * しかし、線形識別関数$f_k({\\bf x})$によるベクトル空間の分割では、ある数字に対応する${\\bf x}$と領域として単純な凸型の領域しか表現できない。これは二層回路のパーセプトロンにおいて、線形識別関数の境界面 $f_k({\\bf x}) = f_l({\\bf x})$で囲まれた凸型の領域しか表現できないのと同じである。\n",
    "\n",
    "* 2) また、ロジスティック回帰による分類では、パラメーターで大きく重みづけされているピクセルが黒いか白いかで、画像の分類は左右される。しかし、人間が画像を分類するときには、そのように局所的な情報から判断しているのではなく、画像の全体から文字の判別に重要な特徴、ストロークの相対位置、関係などを取り出して、判断している。\n",
    "\n",
    "（などど、長々と調子にのって書いてしまいました。しかし、上記のように書けるのは、実は、どのようにロジステック回帰のモデルを改良して正解率が上がったかを、入門書を読んで知っているからです。すみません。）\n",
    "\n",
    "\n",
    "#### ディープラーニングへ\n",
    "\n",
    "そこで、次のノートでは上の弱点1),2)を克服するために、以下の改良を加えます。\n",
    "\n",
    "* 弱点1)を克服するために、パーセプトロン回路で層を増やすように、入力変数とソフトマックス関数の間に、新たな層を加える。つまりは、層をディープにする。\n",
    "* 弱点2)を克服するために、さらに層を増やす。そして、増やした層の間で、フィルター処理とプーリング処理によって画像の特徴が抽出されるようにする。"
   ]
  },
  {
   "cell_type": "markdown",
   "metadata": {},
   "source": [
    "# まとめ\n",
    "\n",
    "* 多クラス分類のために拡張されたロジステック回帰（ソフトマックス関数による回帰）で、手書き文字を分類した。\n",
    "  * 学習データでの正解率は93%。\n",
    "* さらに正解率を上げるべく、つぎは、ディープラーニング！"
   ]
  },
  {
   "cell_type": "code",
   "execution_count": null,
   "metadata": {
    "collapsed": true
   },
   "outputs": [],
   "source": []
  }
 ],
 "metadata": {
  "kernelspec": {
   "display_name": "Python 2",
   "language": "python",
   "name": "python2"
  },
  "language_info": {
   "codemirror_mode": {
    "name": "ipython",
    "version": 2
   },
   "file_extension": ".py",
   "mimetype": "text/x-python",
   "name": "python",
   "nbconvert_exporter": "python",
   "pygments_lexer": "ipython2",
   "version": "2.7.12"
  }
 },
 "nbformat": 4,
 "nbformat_minor": 2
}
