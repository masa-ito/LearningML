{
 "cells": [
  {
   "cell_type": "markdown",
   "metadata": {},
   "source": [
    "# 多クラスのロジスティック回帰で手書き文字を認識"
   ]
  },
  {
   "cell_type": "markdown",
   "metadata": {},
   "source": [
    "# 0. 序： なぜ、ロジスティック回帰？\n",
    "\n",
    "線形回帰の理解からディープラーニングの理解に至る、中間段階として。\n",
    "\n",
    "* 線形回帰 (直線フィット）\n",
    "  * 最尤法による誤差関数 (と最小二乗法による誤差関数は実は同じ。）\n",
    "  * 確率モデル\n",
    "\n",
    "\n",
    "* ロジステック回帰 <-- 今、ここ\n",
    "  * 最尤法によるパラメーター推定という点で、線形回帰と同じ\n",
    "  * 確率モデルという考え方を使うと、回帰モデルは分類にも使える。\n",
    "  * 複数のクラスを分類するための拡張\n",
    "\n",
    "\n",
    "* ディープラーニングの基本 <-- 次のノート\n",
    "  * 最尤法によるパラメーター推定という点で、線形回帰と同じ\n",
    "  * 回帰モデルの入力と出力と間に、隠れ層を追加。層を深くする。（だから\"深層\"学習）"
   ]
  },
  {
   "cell_type": "markdown",
   "metadata": {},
   "source": [
    "## 0.1 TensorFlow を動かす準備"
   ]
  },
  {
   "cell_type": "code",
   "execution_count": 1,
   "metadata": {
    "collapsed": true
   },
   "outputs": [],
   "source": [
    "import tensorflow as tf\n",
    "\n",
    "from math import *\n",
    "import numpy as np\n",
    "\n",
    "import matplotlib.pyplot as plt\n",
    "%matplotlib inline"
   ]
  },
  {
   "cell_type": "markdown",
   "metadata": {},
   "source": [
    "# 1. 方法論： ロジステック回帰\n",
    "\n",
    "## 1. 1 基本は線形回帰と同じ\n",
    "\n",
    "線形回帰のモデル式\n",
    "$$ f(x_1, \\ldots, x_n) = w_0 + x_1 w_1 + \\ldots + x_n w_n$$  \n",
    "をシグモイド関数\n",
    "$$ \\sigma(x ; w) = \\frac{1}{ 1 + e^{- x} }  $$ \n",
    "を用いて、\n",
    "$$ P( x_1, \\ldots, x_n ) = \\sigma( f(x_1, \\ldots, x_n) ) $$\n",
    "のように拡張する。\n",
    "\n",
    "この関数$P$は、独立変数の組${( x_1, \\ldots, x_n)}$に対応する事象についての確率であると、考える。\n",
    "\n",
    "\n",
    "## 1.2 ここでも最尤法でモデルパラメーターを推定する\n",
    "\n",
    "与えられたデータで、\n",
    "\n",
    "誤差関数は次のようにする。\n",
    "\n",
    "$$ E = \\sum_i  $$\n"
   ]
  },
  {
   "cell_type": "markdown",
   "metadata": {},
   "source": [
    "## TensorFlow を動かす準備"
   ]
  },
  {
   "cell_type": "markdown",
   "metadata": {},
   "source": [
    "モジュールをインポートする。"
   ]
  },
  {
   "cell_type": "code",
   "execution_count": 1,
   "metadata": {
    "collapsed": true
   },
   "outputs": [],
   "source": [
    "import tensorflow as tf\n",
    "import numpy as np\n",
    "import matplotlib.pyplot as plt\n",
    "%matplotlib inline\n",
    "\n",
    "from tensorflow.examples.tutorials.mnist import input_data"
   ]
  },
  {
   "cell_type": "markdown",
   "metadata": {},
   "source": [
    "# MNISTデータセットをダウンロード"
   ]
  },
  {
   "cell_type": "markdown",
   "metadata": {},
   "source": [
    "MNISTのデータセットをダウンロードして、mnistオブジェクトに格納する。"
   ]
  },
  {
   "cell_type": "code",
   "execution_count": 2,
   "metadata": {},
   "outputs": [
    {
     "name": "stdout",
     "output_type": "stream",
     "text": [
      "Extracting /tmp/data/train-images-idx3-ubyte.gz\n",
      "Extracting /tmp/data/train-labels-idx1-ubyte.gz\n",
      "Extracting /tmp/data/t10k-images-idx3-ubyte.gz\n",
      "Extracting /tmp/data/t10k-labels-idx1-ubyte.gz\n"
     ]
    }
   ],
   "source": [
    "mnist = input_data.read_data_sets(\"/tmp/data/\", one_hot=True)"
   ]
  },
  {
   "cell_type": "markdown",
   "metadata": {},
   "source": [
    "一般に、機械学習のためのデータには、３つのデータセット、学習用、検証用、テスト用が用意されている。"
   ]
  },
  {
   "cell_type": "code",
   "execution_count": 3,
   "metadata": {},
   "outputs": [
    {
     "name": "stdout",
     "output_type": "stream",
     "text": [
      "traing data: \t\t55000 images 55000 labels\n",
      "validation data:\t5000 images 5000 labels\n",
      "test data: \t\t10000 images 10000 labels\n"
     ]
    }
   ],
   "source": [
    "print \"traing data: \\t\\t\", len( mnist.train.images),\"images\", len(mnist.train.labels), \"labels\"\n",
    "print \"validation data:\\t\", len( mnist.validation.images),\"images\", len(mnist.validation.labels), \"labels\"\n",
    "print \"test data: \\t\\t\", len( mnist.test.images),\"images\", len(mnist.test.labels), \"labels\""
   ]
  },
  {
   "cell_type": "markdown",
   "metadata": {},
   "source": [
    "学習はモデルパラメーターを最適化するために、検証は複数のモデルから最良のモデルを選ぶために、テストは未知データに対するモデルの予測精度を見積もるために、行われる。\n",
    "ここでは、モデルは１種類だけを作るので、学習とテストだけを行う。\n",
    " \n",
    "それぞれのデータセットには画像とラベルが同数だけ含まれる。"
   ]
  },
  {
   "cell_type": "markdown",
   "metadata": {},
   "source": [
    "トレーニングセットから、10個分のデータを取り出して、画像データとラベルを別々の変数に格納する。"
   ]
  },
  {
   "cell_type": "code",
   "execution_count": 4,
   "metadata": {
    "collapsed": true
   },
   "outputs": [],
   "source": [
    "images, labels = mnist.train.next_batch(10)"
   ]
  },
  {
   "cell_type": "markdown",
   "metadata": {},
   "source": [
    " 画像データを実際の画像として表示してみる。"
   ]
  },
  {
   "cell_type": "code",
   "execution_count": 5,
   "metadata": {
    "scrolled": true
   },
   "outputs": [
    {
     "data": {
      "image/png": "[encoded data removed]",
      "text/plain": [
       "<matplotlib.figure.Figure at 0x7f84989b19d0>"
      ]
     },
     "metadata": {},
     "output_type": "display_data"
    }
   ],
   "source": [
    "fig = plt.figure(figsize=(7,4))\n",
    "for c, (image, label) in enumerate(zip(images, labels)):\n",
    "    subplot = fig.add_subplot(2,5,c+1)\n",
    "    subplot.set_xticks([])\n",
    "    subplot.set_yticks([])\n",
    "    subplot.set_title('%d' % np.argmax(label))\n",
    "    subplot.imshow(image.reshape((28,28)), vmin=0, vmax=1,\n",
    "                   cmap=plt.cm.gray_r, interpolation=\"nearest\")"
   ]
  },
  {
   "cell_type": "code",
   "execution_count": 6,
   "metadata": {
    "scrolled": true
   },
   "outputs": [
    {
     "name": "stdout",
     "output_type": "stream",
     "text": [
      "[1, 7, 5, 1, 2, 8, 6, 1, 6, 2]\n"
     ]
    }
   ],
   "source": [
    "print [ np.argmax(l) for l in labels[ range(10)] ]"
   ]
  },
  {
   "cell_type": "markdown",
   "metadata": {
    "collapsed": true
   },
   "source": [
    "# 分類するためのモデルを作成"
   ]
  },
  {
   "cell_type": "markdown",
   "metadata": {},
   "source": [
    "画像データ$x_i$が数字k に分類される確率 $P_k(\\bf x_i)$ の行列 $P$ を以下のように定義する。行列$P$は$P_k(\\bf x_i)$ をi行目、k列目の要素としてまとめたものである。（$i = 1, \\ldots, M .$　Mはデータの個数、$ k = 1, \\ldots , K .$ K は分類クラスの個数、ここでは $K=10$）  "
   ]
  },
  {
   "cell_type": "code",
   "execution_count": 8,
   "metadata": {
    "collapsed": true
   },
   "outputs": [],
   "source": [
    "x = tf.placeholder(tf.float32, [None, 784])\n",
    "w = tf.Variable(tf.zeros([784, 10]))\n",
    "w0 = tf.Variable(tf.zeros([10]))\n",
    "f = tf.matmul(x, w) + w0\n",
    "p = tf.nn.softmax(f)"
   ]
  },
  {
   "cell_type": "markdown",
   "metadata": {},
   "source": [
    "ここで、画像データ $\\bf x_i$ は、M個のピクセルに対応して、\n",
    "$$ {\\bf x_j} = ( x_{i1}\\, x_{i2}\\, \\ldots x_{iM} )$$\n",
    "のように同じ数の成分を持つベクトルであり、これらN個の画像データを、\n",
    "$$ X^t = ( {\\bf x_1\\, x_2 \\, \\ldots x_N} ) $$\n",
    "のように行列としてまとめている。"
   ]
  },
  {
   "cell_type": "markdown",
   "metadata": {},
   "source": [
    "分類確率を計算するために、まず、画像データ$\\bf x_i$とモデルパラメータ$w_{ik}$ から次のような一次関数$f_k(\\bf x_i)$ を計算する。\n",
    "$$ f_k({\\bf x_i}) = w_{0j} + x_{i1} w_{1j} + x_{i2} w_{2j} + \\ldots + x_{iM} w_{Mj}$$\n",
    "この$f_j(\\bf x_i)$も行列$P$と同じように、行列$F$のi行目、j列目の要素であるとして、まとめられている。"
   ]
  },
  {
   "cell_type": "markdown",
   "metadata": {},
   "source": [
    "$P_j(\\bf x_i)$はソフトマックス関数を使って、次のように計算される。\n",
    "$$ P_k(\\bf x_i) = \\frac{ \\exp( f_k({\\bf x_i})) }{\\sum_{k'=1}^{K} exp( f_k'({\\bf x_i})) }  $$"
   ]
  },
  {
   "cell_type": "markdown",
   "metadata": {},
   "source": [
    "誤差関数は\n"
   ]
  },
  {
   "cell_type": "markdown",
   "metadata": {},
   "source": [
    "乱数のシードを設定"
   ]
  },
  {
   "cell_type": "code",
   "execution_count": 7,
   "metadata": {
    "collapsed": true
   },
   "outputs": [],
   "source": [
    "np.random.seed(20160604)"
   ]
  },
  {
   "cell_type": "code",
   "execution_count": null,
   "metadata": {
    "collapsed": true
   },
   "outputs": [],
   "source": []
  }
 ],
 "metadata": {
  "kernelspec": {
   "display_name": "Python 2",
   "language": "python",
   "name": "python2"
  },
  "language_info": {
   "codemirror_mode": {
    "name": "ipython",
    "version": 2
   },
   "file_extension": ".py",
   "mimetype": "text/x-python",
   "name": "python",
   "nbconvert_exporter": "python",
   "pygments_lexer": "ipython2",
   "version": "2.7.12"
  }
 },
 "nbformat": 4,
 "nbformat_minor": 2
}
